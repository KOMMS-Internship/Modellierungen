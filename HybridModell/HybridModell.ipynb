{
 "cells": [
  {
   "cell_type": "markdown",
   "metadata": {
    "slideshow": {
     "slide_type": "slide"
    }
   },
   "source": [
    "# Corona Modell - Kontaktbeschränkungen\n",
    "## Grundlage SIR Modell\n",
    "\n",
    "Das [SIR Modell](https://de.wikipedia.org/wiki/SIR-Modell) teilt alle Menschen in gesunde ($S$), kranke ($I$) und genesene ($R$) ein. Dabei gelten folgende Gleichungen für die Änderungsrate der einzelnen Werte, wobei $\\beta$ für die Infektionsrate und $\\gamma$ für die Genesungsrate steht:\n",
    "\n",
    "\\begin{align}\n",
    "    \\frac{dS}{dt} &= - \\beta \\cdot \\frac{SI}{N} \\\\\n",
    "    \\frac{dI}{dt} &= \\beta \\cdot \\frac{SI}{N} - \\gamma \\cdot I \\\\\n",
    "    \\frac{dR}{dt} &= \\gamma \\cdot I\n",
    "\\end{align}\n",
    "\n",
    "Erklärung: \n",
    "* $\\frac{I}{N}$ ist der Anteil der Infizierten an der Gesamtbevölkerung. Je höher dieser ist, desto höher ist das Infektionsrisiko für die Gesunden. Dieses steigt auch mit der Infektionsrate $\\gamma$. Der Faktor $\\frac{\\beta I}{N}$ lässt sich also als Infektionsrisiko bzw. Wahrscheinlichkeit verstehen. Multipliziert mit der Anzahl der gesunden Menschen erhält man dann den Erwartungswert der Neuinfektionen $\\beta \\cdot \\frac{SI}{N}$. Dies ist die Anzahl der Menschen, die die Gruppe der Gesunden verlassen und die der Infizierten betritt.\n",
    "\n",
    "* $\\gamma \\cdot I$ gibt an, wie viele infizierte Menschen wieder genesen und aus $I$ in $R$ kommen."
   ]
  },
  {
   "cell_type": "markdown",
   "metadata": {
    "slideshow": {
     "slide_type": "slide"
    }
   },
   "source": [
    "# Hybrid Modell\n",
    "\n",
    "Um Kontaktbeschränkungen zu simulieren, sollte man zunächst Kontakte simulieren. Daher verwendet das Modell Menschen, die sich in Gruppen treffen können. Dann können sich nur die Personen innerhalb einer Gruppe untereinander anstecken:\n",
    "\n",
    "## Simulation der Gruppen mit einzelnen Personen\n",
    "\n",
    "Für die einzelnen Gruppen lässt sich das SIR-Modell anwenden. Werden einzelne Menschen simuliert, dürfen aber nur natürliche Zahlen verwendet werden, da sich dann nicht z.B. 2.45 Menschen in einer Gruppe infizieren können (Der dritte ist entweder infiziert oder nicht!).\n",
    "\n",
    "Um dieses Problem zu lösen, wird (deterministischer pseudo-) Zufall verwendet. Dafür wird die Wahrscheinlichkeit für eine Infektion auf $\\beta \\cdot \\frac{I}{N}$ gesetzt. Wird dieses Zufallsexperiment dann $S$ mal ausgeführt, erhalten wir einen Erwartungswert, der mit $\\beta \\cdot \\frac{SI}{N}$ der gewünschten Formel entspricht.\n",
    "\n",
    "## Simulation mit SIR-Modell\n",
    "\n",
    "Personen, die sich nicht an die Beschränkungen halten, werden alle gemeinsam in einem SIR Modell behandelt. Somit wird, falls sich niemand an die Beschränkungen hält, einfach das normale SIR-Modell verwendet. Dadurch lässt sich der Effekt von Kontaktbeschränkungen im Vergleich besser zeigen.\n",
    "\n",
    "## Zweiter Durchlauf des SIR-Modells\n",
    "\n",
    "Damit sich auch Personen die sich nicht an die Kontaktbeschränkungen halten, welche anstecken können, die sich an diese halten und umgekehrt, wird das SIR-Modell ein zweites Mal für alle Personen ausgeführt. Für die Personen, die einzeln simuliert werden, wird wieder Zufall verwendet.\n",
    "\n",
    "Dabei sollte die Infektionsrate hier aber geringer gewählt werden, damit der Effekt der Kontaktbeschränkungen dadurch nicht überschrieben wird."
   ]
  },
  {
   "cell_type": "code",
   "execution_count": 15,
   "metadata": {
    "slideshow": {
     "slide_type": "slide"
    }
   },
   "outputs": [
    {
     "data": {
      "image/png": "[encoded data removed]",
      "text/plain": [
       "<Figure size 432x288 with 1 Axes>"
      ]
     },
     "metadata": {
      "needs_background": "light"
     },
     "output_type": "display_data"
    }
   ],
   "source": [
    "from hybrid_main import *\n",
    "\n",
    "# Anzahl an Simulationsschritten\n",
    "SIMULATIONS_DAUER = 100\n",
    "\n",
    "# Anzahl an Personen insgesamt\n",
    "personen = 1_000_000\n",
    "# Anzahl an Personen, die sich an die Kontaktbeschränkungen halten\n",
    "befolgend = 500_000\n",
    "# Anzahl an Personen, die zu Beginn infiziert sind\n",
    "infiziert = 20\n",
    "# Anzahl an Personen, die zu Beginn bereits genesen sind\n",
    "genesen = 0\n",
    "# maximale Gruppengröße, die erlaubt ist\n",
    "erlaubteGruppen = 4\n",
    "# Rate, mit der infizierte Personen gesunde infizieren\n",
    "infektionsRate = 0.3\n",
    "# Rate, mit der infizierte genesen\n",
    "genesungsRate = 0.1\n",
    "# Raten für den zweiten SIR Durchlauf. Kann auf 0 gesetzt werden, um diesen wirkungslos zu machen\n",
    "beta2 = 0\n",
    "gamma2 = 0\n",
    "\n",
    "# Welche Kurven sollen gezeigt werden\n",
    "zeige_gesamt = False\n",
    "zeige_befolgend = True\n",
    "zeige_nichtbefolgend = True\n",
    "\n",
    "simuliere(personen, befolgend, infiziert, genesen, erlaubteGruppen, infektionsRate, genesungsRate, beta2, gamma2, SIMULATIONS_DAUER,\n",
    "          zeige_gesamt, zeige_befolgend, zeige_nichtbefolgend)"
   ]
  },
  {
   "cell_type": "markdown",
   "metadata": {
    "slideshow": {
     "slide_type": "slide"
    }
   },
   "source": [
    "## Effekt der Kontaktbeschränkungen\n",
    "\n",
    "Zunächst nehmen wir an, dass alle Infizierten gleichmäßig auf die Gruppen verteilt werden.\n",
    "Die Zahl der Neuinfektionen beträgt dann in jeder Gruppe $\\beta \\cdot \\frac{SI}{N}$. Rechnen wir das auf alle Gruppen hoch, erhalten wir dasselbe Ergebnis wie beim SIR Modell!\n",
    "\n",
    "Nun soll die Anzahl der Infizierten in einer Gruppe mit der Zahl der Neuinfektionen $i$ in dieser in den Zusammenhang gebracht werden. Dafür werden die Genesenen nicht berücksichtigt, da die Rechnung so einfacher wird. Da der Faktor $\\frac{\\beta}{N}$ konstant ist, kann er ignoriert werden:\n",
    "\n",
    "\\begin{align}\n",
    "    S \\cdot I = (N - I) \\cdot I = NI - I^2\n",
    "\\end{align}\n",
    "\n",
    "Nun überlegen wir uns, was passiert, wenn wiraus einer Gruppe mit $I$ Infizierten einen mit einem Gesunden aus einer Gruppe mit $J$ infizierten tauschen. Dann haben wir $(I-1)$ Infizierte in der einen Gruppe und $(J+1)$ in der anderen. Betrachtet werden soll die Summe der Neuinfektionen $i$ aus beiden Gruppen:\n",
    "\n",
    "\\begin{align}\n",
    "    i &= N(I - 1) - (I - 1)^2 + N(J + 1) - (J + 1)^2 \\\\\n",
    "    &= NI - N - (I^2 - 2I + 1) + NJ + N - (J^2 + 2J + 1) \\\\\n",
    "    &= NI + NJ - I^2 - J^2 + 2(I - J) - 2\n",
    "\\end{align}\n",
    "\n",
    "Die Differenz zu den Neuinfektionen, die es sonst gegeben hätte ist $\\Delta i$:\n",
    "\\begin{align}\n",
    "    \\Delta i &= (NI + NJ - I^2 - J^2 + 2(I - J) - 2) - (NI + NJ -I^2 -J^2) \\\\\n",
    "    &= 2(I - J) - 2\n",
    "\\end{align}\n",
    "\n",
    "Das Vorzeichen dieser Veränderung ist positiv, wenn gilt:\n",
    "\\begin{align}\n",
    "    0 &< 2(I - J) - 2 \\\\\n",
    "    2 &< 2(I - J) \\\\\n",
    "    1 &< I - J \\\\\n",
    "    J + 1 &< I\n",
    "\\end{align}\n",
    "\n",
    "Tauschen wir einen Infizierten also zwischen zwei Gruppen, gibt es genau dann mehr Neuinfektionen, wenn es in der Gruppe, aus der die Person kommt mehr als einen Infizierten zusätzlich gibt. Somit ist das Maximum der Neuinfektionen genau dann erreicht, wenn alle Gruppen aus gleich vielen Infizierten bestehen, da ein Tausch, nach dem wir mehr Neuinfektionen haben dann nicht mehr möglich ist.\n",
    "\n",
    "Andersherum ist der Wert genau dann minimal, wenn es nicht mehr möglich ist, einen Infizierten von einer Gruppe mit wenigen Infizierten in eine mit vielen zu verschieben. Es gibt also am wenigsten Neuinfektionen, wenn in möglichst vielen Gruppen nur Infizierte oder nur Gesunde sind."
   ]
  },
  {
   "cell_type": "code",
   "execution_count": null,
   "metadata": {},
   "outputs": [],
   "source": []
  }
 ],
 "metadata": {
  "celltoolbar": "Slideshow",
  "kernelspec": {
   "display_name": "Python 3",
   "language": "python",
   "name": "python3"
  },
  "language_info": {
   "codemirror_mode": {
    "name": "ipython",
    "version": 3
   },
   "file_extension": ".py",
   "mimetype": "text/x-python",
   "name": "python",
   "nbconvert_exporter": "python",
   "pygments_lexer": "ipython3",
   "version": "3.7.2"
  }
 },
 "nbformat": 4,
 "nbformat_minor": 4
}
