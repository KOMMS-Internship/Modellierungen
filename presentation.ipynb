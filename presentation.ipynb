{
 "cells": [
  {
   "cell_type": "code",
   "execution_count": null,
   "metadata": {},
   "outputs": [],
   "source": [
    "import CellularAutomat\n",
    "from matplotlib import pyplot as plt"
   ]
  },
  {
   "cell_type": "code",
   "execution_count": null,
   "metadata": {},
   "outputs": [],
   "source": [
    "steps = 100\n",
    "persons = 100\n",
    "houses = 30\n",
    "contact_restrictions = 0  # If no restriction planned set to 0\n",
    "infected_start = 1\n",
    "naughty_start = 2\n",
    "recovered_start = 0\n",
    "immunity_time = True  # Never expires\n",
    "disinfection_prob = 1-0.1\n",
    "infection_prob = 1-0.9\n",
    "vaccine_per_tick = 0\n",
    "naughty_plus = 2\n",
    "naughty_plus_percent = 0.01\n",
    "\n",
    "health_system_border = 10"
   ]
  },
  {
   "cell_type": "code",
   "execution_count": null,
   "metadata": {},
   "outputs": [],
   "source": [
    "CA = CellularAutomat.Simulation(persons, houses, contact_restrictions, infected_start, naughty_start, recovered_start,\n",
    "                                immunity_time, disinfection_prob, infection_prob, vaccine_per_tick, naughty_plus,\n",
    "                                naughty_plus_percent)\n",
    "\n",
    "susceptible, infected, recovered, naughty = CA.steps(steps)\n",
    "xaxis = list(range(steps))\n",
    "health_system = [health_system_border for _ in range(steps)]"
   ]
  },
  {
   "cell_type": "code",
   "execution_count": null,
   "metadata": {},
   "outputs": [],
   "source": [
    "plt.plot(xaxis, health_system, \"o\", label=\"health system border\")\n",
    "plt.plot(xaxis, susceptible, \"k\", label=\"susceptible\")\n",
    "plt.plot(xaxis, infected, \"b\", label=\"infected\")\n",
    "plt.plot(xaxis, recovered, \"g\", label=\"recovered\")\n",
    "plt.plot(xaxis, naughty, \"r\", label=\"naughty\")\n",
    "plt.legend()\n",
    "plt.title(\"COVID-19 simulation\")\n",
    "plt.xlabel(\"time\")\n",
    "plt.ylabel(\"people\")\n",
    "plt.show()"
   ]
  },
  {
   "cell_type": "markdown",
   "metadata": {},
   "source": [
    "Monte Carlo:"
   ]
  },
  {
   "cell_type": "code",
   "execution_count": null,
   "metadata": {},
   "outputs": [],
   "source": [
    "susceptible = [0 for _ in range(steps)]\n",
    "infected = [0 for _ in range(steps)]\n",
    "recovered = [0 for _ in range(steps)]\n",
    "naughty = [0 for _ in range(steps)]\n",
    "\n",
    "for simulation in range(monte_carlo):\n",
    "    CA = CellularAutomat.Simulation(persons, houses, contact_restrictions, infected_start, naughty_start, recovered_start,\n",
    "                                    immunity_time, disinfection_prob, infection_prob, vaccine_per_tick, naughty_plus,\n",
    "                                    naughty_plus_percent)\n",
    "\n",
    "    states = CA.steps(steps)\n",
    "    susceptible = [susceptible[i] + states[0][i] for i in range(steps)]\n",
    "    infected = [infected[i] + states[1][i] for i in range(steps)]\n",
    "    recovered = [recovered[i] + states[2][i] for i in range(steps)]\n",
    "    naughty = [naughty[i] + states[3][i] for i in range(steps)]\n",
    "\n",
    "susceptible = [i/monte_carlo for i in susceptible]\n",
    "infected = [i/monte_carlo for i in infected]\n",
    "recovered = [i/monte_carlo for i in recovered]\n",
    "naughty = [i/monte_carlo for i in naughty]"
   ]
  },
  {
   "cell_type": "code",
   "execution_count": null,
   "metadata": {},
   "outputs": [],
   "source": [
    "xaxis = list(range(steps))\n",
    "health_system = [health_system_border for _ in range(steps)]\n",
    "\n",
    "plt.plot(xaxis, health_system, \"o\", label=\"health system border\")\n",
    "plt.plot(xaxis, susceptible, \"k\", label=\"susceptible\")\n",
    "plt.plot(xaxis, infected, \"b\", label=\"infected\")\n",
    "plt.plot(xaxis, recovered, \"g\", label=\"recovered\")\n",
    "plt.plot(xaxis, naughty, \"r\", label=\"naughty\")\n",
    "plt.legend()\n",
    "plt.title(\"COVID-19 simulation\")\n",
    "plt.xlabel(\"time\")\n",
    "plt.ylabel(\"people\")\n",
    "plt.show()"
   ]
  }
 ],
 "metadata": {
  "kernelspec": {
   "display_name": "Python 3",
   "language": "python",
   "name": "python3"
  },
  "language_info": {
   "codemirror_mode": {
    "name": "ipython",
    "version": 3
   },
   "file_extension": ".py",
   "mimetype": "text/x-python",
   "name": "python",
   "nbconvert_exporter": "python",
   "pygments_lexer": "ipython3",
   "version": "3.8.3"
  }
 },
 "nbformat": 4,
 "nbformat_minor": 4
}
